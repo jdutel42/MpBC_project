{
 "cells": [
  {
   "cell_type": "markdown",
   "metadata": {},
   "source": [
    "## Load packages"
   ]
  },
  {
   "cell_type": "code",
   "execution_count": 1,
   "metadata": {},
   "outputs": [
    {
     "name": "stdout",
     "output_type": "stream",
     "text": [
      "(Running XClone 0.3.8)\n",
      "2025-03-11 10:04:13\n",
      "scipy 1.13.1\n",
      "[XClone efficiency] multiprocessing cpu total count in your device 12\n"
     ]
    }
   ],
   "source": [
    "%load_ext autoreload\n",
    "%autoreload 2\n",
    "\n",
    "import xclone\n",
    "import anndata as an\n",
    "import pandas as pd\n",
    "import numpy as np\n",
    "import scipy\n",
    "print(\"scipy\", scipy.__version__)\n",
    "\n",
    "xclone.pp.efficiency_preview()"
   ]
  },
  {
   "cell_type": "code",
   "execution_count": 3,
   "metadata": {},
   "outputs": [],
   "source": [
    "dataset_name = \"MpBC_data\"\n",
    "## output results dir\n",
    "outdir = \"/mnt/datadisk/Jordan/Scripts/CNA_Project/XClone\""
   ]
  },
  {
   "cell_type": "markdown",
   "metadata": {},
   "source": [
    "# Load data"
   ]
  },
  {
   "cell_type": "code",
   "execution_count": null,
   "metadata": {},
   "outputs": [],
   "source": [
    "# Charger un fichier AnnData (ajuste le chemin selon ton fichier)\n",
    "adata = sc.read_h5ad(\"/mnt/datadisk/Jordan/Data/\")\n",
    "\n",
    "# Vérifier les dimensions de la matrice\n",
    "print(adata)\n"
   ]
  }
 ],
 "metadata": {
  "kernelspec": {
   "display_name": "xclone_env",
   "language": "python",
   "name": "python3"
  },
  "language_info": {
   "codemirror_mode": {
    "name": "ipython",
    "version": 3
   },
   "file_extension": ".py",
   "mimetype": "text/x-python",
   "name": "python",
   "nbconvert_exporter": "python",
   "pygments_lexer": "ipython3",
   "version": "3.9.21"
  }
 },
 "nbformat": 4,
 "nbformat_minor": 2
}
